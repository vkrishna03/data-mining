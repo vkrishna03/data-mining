{
  "nbformat": 4,
  "nbformat_minor": 0,
  "metadata": {
    "colab": {
      "provenance": [],
      "authorship_tag": "ABX9TyO3yb4eVun8zqC1yckn0S2g",
      "include_colab_link": true
    },
    "kernelspec": {
      "name": "python3",
      "display_name": "Python 3"
    },
    "language_info": {
      "name": "python"
    }
  },
  "cells": [
    {
      "cell_type": "markdown",
      "metadata": {
        "id": "view-in-github",
        "colab_type": "text"
      },
      "source": [
        "<a href=\"https://colab.research.google.com/github/vkrishna03/data-mining/blob/main/dm_data_smoothing.ipynb\" target=\"_parent\"><img src=\"https://colab.research.google.com/assets/colab-badge.svg\" alt=\"Open In Colab\"/></a>"
      ]
    },
    {
      "cell_type": "code",
      "execution_count": 25,
      "metadata": {
        "id": "mskAY-hqG_OZ"
      },
      "outputs": [],
      "source": [
        "# segregates given data into n no of data bins\n",
        "def create_bins(nums, bin_size):\n",
        "\n",
        "  # Sort the numbers in ascending order.\n",
        "  nums.sort()\n",
        "\n",
        "  # Calculate the number of bins.\n",
        "  n = len(nums) // bin_size\n",
        "\n",
        "  # Create the data bins.\n",
        "  data_bins = []\n",
        "  for i in range(n):\n",
        "    start_index = i * bin_size\n",
        "    end_index = (i + 1) * bin_size\n",
        "    data_bins.append(nums[start_index:end_index])\n",
        "\n",
        "  # Add the last bin if it's not empty.\n",
        "  if len(nums) % bin_size != 0:\n",
        "    data_bins.append(nums[end_index:])\n",
        "\n",
        "  return data_bins\n"
      ]
    },
    {
      "cell_type": "code",
      "source": [
        "# Calculates mean of each data bin and shows it as result\n",
        "def mean_smoothing(data_bins):\n",
        "\n",
        "  smoothed_bins = []\n",
        "\n",
        "  for bin in data_bins:\n",
        "    mean = sum(bin) / len(bin)\n",
        "    smoothed_bin = [mean] * len(bin)\n",
        "    smoothed_bins.append(smoothed_bin)\n",
        "\n",
        "  return smoothed_bins\n"
      ],
      "metadata": {
        "id": "2_bWGHo3KYdY"
      },
      "execution_count": 26,
      "outputs": []
    },
    {
      "cell_type": "code",
      "source": [
        "# Calculates median of each data bin and shows it as result\n",
        "def median_smoothing(data_bins):\n",
        "\n",
        "  smoothed_bins = []\n",
        "\n",
        "  for bin in data_bins:\n",
        "    median = sorted(bin)[len(bin) // 2]\n",
        "    smoothed_bin = [median] * len(bin)\n",
        "    smoothed_bins.append(smoothed_bin)\n",
        "\n",
        "  return smoothed_bins"
      ],
      "metadata": {
        "id": "7_ZxATkMLrGW"
      },
      "execution_count": 27,
      "outputs": []
    },
    {
      "cell_type": "code",
      "source": [
        "num_list = input(\"Enter numbers: \").split()\n",
        "nums = []\n",
        "for i in num_list:\n",
        "  nums.append(int(i))\n",
        "\n",
        "nums.sort()\n",
        "bin_size = int(input(\"Enter bin_size: \"))\n",
        "\n",
        "\n",
        "bins = create_bins(nums,bin_size)\n",
        "\n",
        "print(\"Data bins are: \")\n",
        "print(bins)\n",
        "print(\"Mean Smoothing: \")\n",
        "print(mean_smoothing(bins))\n",
        "print(\"Median Smoothing: \")\n",
        "print(median_smoothing(bins))\n"
      ],
      "metadata": {
        "colab": {
          "base_uri": "https://localhost:8080/"
        },
        "id": "BjRpNdytNoSf",
        "outputId": "35cebede-7928-4221-ca62-867fa3c5966a"
      },
      "execution_count": 29,
      "outputs": [
        {
          "output_type": "stream",
          "name": "stdout",
          "text": [
            "Enter numbers: 22 33 21 42 12 35 43 58 56 45 65 32\n",
            "Enter bin_size: 4\n",
            "Data bins are: \n",
            "[[12, 21, 22, 32], [33, 35, 42, 43], [45, 56, 58, 65]]\n",
            "Mean Smoothing: \n",
            "[[21.75, 21.75, 21.75, 21.75], [38.25, 38.25, 38.25, 38.25], [56.0, 56.0, 56.0, 56.0]]\n",
            "Median Smoothing: \n",
            "[[22, 22, 22, 22], [42, 42, 42, 42], [58, 58, 58, 58]]\n"
          ]
        }
      ]
    },
    {
      "cell_type": "code",
      "source": [
        "\n"
      ],
      "metadata": {
        "id": "zqXvHBQmQFUz"
      },
      "execution_count": null,
      "outputs": []
    }
  ]
}